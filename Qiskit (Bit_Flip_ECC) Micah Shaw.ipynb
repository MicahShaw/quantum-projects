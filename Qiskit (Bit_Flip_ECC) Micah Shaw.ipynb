{
  "nbformat": 4,
  "nbformat_minor": 0,
  "metadata": {
    "colab": {
      "provenance": [],
      "authorship_tag": "ABX9TyORqG/Vuqd6yC64hJvBOOYT",
      "include_colab_link": true
    },
    "kernelspec": {
      "name": "python3",
      "display_name": "Python 3"
    },
    "language_info": {
      "name": "python"
    }
  },
  "cells": [
    {
      "cell_type": "markdown",
      "metadata": {
        "id": "view-in-github",
        "colab_type": "text"
      },
      "source": [
        "<a href=\"https://colab.research.google.com/github/MicahShaw/quantum-projects/blob/main/Qiskit%20(Bit_Flip_ECC)%20Micah%20Shaw.ipynb\" target=\"_parent\"><img src=\"https://colab.research.google.com/assets/colab-badge.svg\" alt=\"Open In Colab\"/></a>"
      ]
    },
    {
      "cell_type": "markdown",
      "source": [
        "# **Quantum Error Correction: Bit Flip Code explained by** *Micah Shaw*"
      ],
      "metadata": {
        "id": "L8SzOVIArH7P"
      }
    },
    {
      "cell_type": "code",
      "source": [
        "#Micah Shaw (UMD College Park)\n",
        "#Qiskit-Bit Flip ECC Code\n",
        "#Necessary Imports\n",
        "\n",
        "#Suppress !pip output.\n",
        "%%capture\n",
        "!pip install qiskit\n",
        "from qiskit import QuantumRegister, ClassicalRegister\n",
        "from qiskit import QuantumCircuit\n",
        "import matplotlib.pyplot as plt"
      ],
      "metadata": {
        "id": "nxYDBrhQr4yR"
      },
      "execution_count": null,
      "outputs": []
    },
    {
      "cell_type": "markdown",
      "source": [
        "#Step One, ***Setting up the Circuit***\n",
        "\n",
        "*Setup Explained Below*\n",
        "\n"
      ],
      "metadata": {
        "id": "97w0b7G7t1il"
      }
    },
    {
      "cell_type": "code",
      "source": [
        "quantum_register = QuantumRegister(3, 'qregister')\n",
        "#Need classical register to measure the result. We will not perform a measurement here however!\n",
        "classical_register = ClassicalRegister(1, 'cregister')\n",
        "#Create circuit, Three Qubits, One Classical Bit\n",
        "quantum_circuit = QuantumCircuit(quantum_register, classical_register)"
      ],
      "metadata": {
        "id": "xb6lG46zsflX"
      },
      "execution_count": null,
      "outputs": []
    },
    {
      "cell_type": "markdown",
      "source": [
        "#Step Two, ***Applying the CNOT Gates***\n",
        "\n",
        "```\n",
        "#We need to use the CNOT Gate applied from the original qubit to two ancillary qubits in order to maintain the state.\n",
        "```"
      ],
      "metadata": {
        "id": "W1-ZbuFTuH9d"
      }
    },
    {
      "cell_type": "code",
      "source": [
        "%%capture\n",
        "quantum_circuit.cx(quantum_register[0], quantum_register[1])\n",
        "quantum_circuit.cx(quantum_register[0], quantum_register[2])"
      ],
      "metadata": {
        "id": "pYfBQbDAsf7e"
      },
      "execution_count": null,
      "outputs": []
    },
    {
      "cell_type": "markdown",
      "source": [
        "#Step Three, ***Simulate a noisy channel with a bit flip***\n",
        "\n",
        "```\n",
        "#We can flip the state of the original qubit with a Pauli-X Gate.\n",
        "```\n",
        "# *Pauli-X Gate*\n",
        "\n",
        "\n",
        "> Flips the state of the qubit, |0> to |1>, |1> to |0>.\n",
        "\n"
      ],
      "metadata": {
        "id": "Z2S8wjjBu8Pi"
      }
    },
    {
      "cell_type": "code",
      "source": [
        "%%capture\n",
        "quantum_circuit.x(quantum_register[0])"
      ],
      "metadata": {
        "id": "8HCdq5xmtkv0"
      },
      "execution_count": null,
      "outputs": []
    },
    {
      "cell_type": "markdown",
      "source": [
        "#Step Four, ***Repeat Step Two, Apply CNOT Gates again***\n",
        "\n"
      ],
      "metadata": {
        "id": "otx6c_2TvveY"
      }
    },
    {
      "cell_type": "code",
      "source": [
        "%%capture\n",
        "quantum_circuit.cx(quantum_register[0], quantum_register[1])\n",
        "quantum_circuit.cx(quantum_register[0], quantum_register[2])"
      ],
      "metadata": {
        "id": "5U5AoHBYvtUp"
      },
      "execution_count": null,
      "outputs": []
    },
    {
      "cell_type": "markdown",
      "source": [
        "***Intermission, Toffoli Gate Explained***\n",
        "\n",
        "\n",
        "\n",
        "> A Toffoli Gate is a multi-qubit gate which is simliar to the\n",
        "CNOT gate, where intstead of one control qubit and one target qubit, it maintains two control qubits. We use this  in QEC to correct the bit flip. If the bit flips and the singular qubits become one, it flips it.\n",
        "\n",
        "\n"
      ],
      "metadata": {
        "id": "CsdpLrIzwpI5"
      }
    },
    {
      "cell_type": "markdown",
      "source": [
        "#Step Five, ***Correct the BIT FLIP***\n",
        "\n",
        "```\n",
        "#We can correct the flip with a TOFFOLI gate.\n",
        "```\n",
        "> If C-one and C-two are one, flips the target qubit.\n"
      ],
      "metadata": {
        "id": "armaq6Fnw-J3"
      }
    },
    {
      "cell_type": "code",
      "source": [
        "quantum_circuit.ccx(quantum_register[2], quantum_register[1], quantum_register[0])\n",
        "print(quantum_circuit)"
      ],
      "metadata": {
        "colab": {
          "base_uri": "https://localhost:8080/"
        },
        "id": "HeAUWiblvqAG",
        "outputId": "f5426812-6dab-41c0-e9eb-cc998d7fece4"
      },
      "execution_count": null,
      "outputs": [
        {
          "output_type": "stream",
          "name": "stdout",
          "text": [
            "                       ┌───┐          ┌───┐\n",
            "qregister_0: ──■────■──┤ X ├──■────■──┤ X ├\n",
            "             ┌─┴─┐  │  └───┘┌─┴─┐  │  └─┬─┘\n",
            "qregister_1: ┤ X ├──┼───────┤ X ├──┼────■──\n",
            "             └───┘┌─┴─┐     └───┘┌─┴─┐  │  \n",
            "qregister_2: ─────┤ X ├──────────┤ X ├──■──\n",
            "                  └───┘          └───┘     \n",
            "cregister: 1/══════════════════════════════\n",
            "                                           \n"
          ]
        }
      ]
    }
  ]
}