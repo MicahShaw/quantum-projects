{
  "nbformat": 4,
  "nbformat_minor": 0,
  "metadata": {
    "colab": {
      "provenance": [],
      "authorship_tag": "ABX9TyMLLSmX6l8+Arw/IesUPhlw",
      "include_colab_link": true
    },
    "kernelspec": {
      "name": "python3",
      "display_name": "Python 3"
    },
    "language_info": {
      "name": "python"
    }
  },
  "cells": [
    {
      "cell_type": "markdown",
      "metadata": {
        "id": "view-in-github",
        "colab_type": "text"
      },
      "source": [
        "<a href=\"https://colab.research.google.com/github/MicahShaw/quantum-projects/blob/main/Qiskit(MCMTGate)%20Micah%20Shaw.ipynb\" target=\"_parent\"><img src=\"https://colab.research.google.com/assets/colab-badge.svg\" alt=\"Open In Colab\"/></a>"
      ]
    },
    {
      "cell_type": "markdown",
      "source": [
        "# The **MCMT GATE** *(Multiple Control Multiple Target)* *explained* by **Micah Shaw**.\n",
        "\n",
        "Defining the concept of:\n",
        "# **control** verses **target** qubits. \n",
        "\n",
        "\n",
        "---\n",
        "\n",
        "\n",
        "> When dealing with two-qubit gates, the concept of a control and a target qubit arises. \n",
        "\n",
        "The first qubit is the *control* qubit and the second qubit is the *target* qubit. \n",
        "\n",
        "For a **CNOT** gate, if the control is set as **|1>**. We flip the corresponding target qubit.\n",
        "\n",
        "\n",
        "---\n",
        "\n",
        "\n",
        "\n",
        "> For **MCMT** gates, we are also able to implement these target/control qubits. The Multiple Control Multiple Target gate allows us to modify existing gates with multiple control and target qubits.\n",
        "\n",
        "\n",
        "\n",
        "\n",
        "\n",
        "---\n",
        "\n",
        "\n",
        "**How it is used:**\n",
        "\n",
        "As defined in the [documentation](https://qiskit.org/documentation/stubs/qiskit.circuit.library.MCMT.html), the MCMT gate's BASE is\n",
        "\"*qiskit.circuit.quantumcircuit.QuantumCircuit*\"\n",
        "\n",
        "Therefore we know it is applied to a circuit type.\n",
        "\n",
        "So we define a circuit, then tack the MCMT gate onto it.\n",
        "\n",
        "\n",
        "by \n",
        "\n",
        "**Micah Shaw**"
      ],
      "metadata": {
        "id": "4UdJMX-JTBaG"
      }
    },
    {
      "cell_type": "code",
      "execution_count": null,
      "metadata": {
        "id": "KGNBi-ZprqfL"
      },
      "outputs": [],
      "source": [
        "#Micah Shaw (UMD College Park)\n",
        "#Qiskit-MCMT GATE (Multiple Control Multiple Target)\n",
        "#The MCMT gate is a conceptual gate permitting aleration of various gates with multiple target and control qubits\n",
        "#Necessary Imports\n",
        "\n",
        "#Suppress !pip output.\n",
        "%%capture\n",
        "!pip install qiskit\n",
        "from qiskit.circuit.library import MCMT\n",
        "from qiskit import QuantumRegister, ClassicalRegister\n",
        "from qiskit import QuantumCircuit\n",
        "\n"
      ]
    },
    {
      "cell_type": "markdown",
      "source": [
        "👉Will implement the MCMT gate with the Hadamard gate and two control qubits and two target qubits."
      ],
      "metadata": {
        "id": "qfMJVILzBH2U"
      }
    },
    {
      "cell_type": "code",
      "source": [
        "#Define registers and circuit.\n",
        "#Quantum register takes four because of the number of qubits we are using.\n",
        "quantum_register = QuantumRegister(4, 'q')\n",
        "#The Classical register is used for measurement.\n",
        "classical_register = ClassicalRegister(2, 'c')\n",
        "#Establish our circuit.\n",
        "quantum_circuit = QuantumCircuit(quantum_register, classical_register)"
      ],
      "metadata": {
        "id": "rPAg1J4pUsCj"
      },
      "execution_count": null,
      "outputs": []
    },
    {
      "cell_type": "markdown",
      "source": [
        "Why do I add **Pauli-X** gates to all the **control** qubits? In order to make use of the **Hadamard** gate here, we must put all the control qubits in the **|1>** state."
      ],
      "metadata": {
        "id": "YhU1rB6qXBcZ"
      }
    },
    {
      "cell_type": "code",
      "source": [
        "#First step, choose a gate. (Let's use a Hadamard defined as 'h').\n",
        "#Negate control qubits into the |1> state.\n",
        "quantum_circuit.x(quantum_register[0])\n",
        "quantum_circuit.x(quantum_register[1])\n",
        "#Add on function to circuit\n",
        "quantum_circuit += MCMT('h', 2, 2)\n"
      ],
      "metadata": {
        "id": "OYFGgmaLsUoe",
        "colab": {
          "base_uri": "https://localhost:8080/"
        },
        "outputId": "8a3a231d-3768-4c32-fa7a-56b80bcbc241"
      },
      "execution_count": null,
      "outputs": [
        {
          "output_type": "stream",
          "name": "stderr",
          "text": [
            "/usr/local/lib/python3.7/dist-packages/ipykernel_launcher.py:6: DeprecationWarning: The QuantumCircuit.__iadd__() method is being deprecated. Use the compose() (potentially with the inplace=True argument) and tensor() methods which are more flexible w.r.t circuit register compatibility.\n",
            "  \n"
          ]
        }
      ]
    },
    {
      "cell_type": "code",
      "source": [
        "#Measure circuit; apply to Classical Register bits.\n",
        "quantum_circuit.measure(quantum_register[2], classical_register[0])\n",
        "quantum_circuit.measure(quantum_register[3], classical_register[1])"
      ],
      "metadata": {
        "colab": {
          "base_uri": "https://localhost:8080/"
        },
        "id": "WYtKewvoHFB8",
        "outputId": "46e248b1-2267-4feb-dcc3-77bd25bf3cd4"
      },
      "execution_count": null,
      "outputs": [
        {
          "output_type": "execute_result",
          "data": {
            "text/plain": [
              "<qiskit.circuit.instructionset.InstructionSet at 0x7fd37e1a0c90>"
            ]
          },
          "metadata": {},
          "execution_count": 20
        }
      ]
    },
    {
      "cell_type": "code",
      "source": [
        "#Print circuit\n",
        "print(quantum_circuit)"
      ],
      "metadata": {
        "colab": {
          "base_uri": "https://localhost:8080/"
        },
        "id": "9gFGJAiKHX86",
        "outputId": "2e2323bd-bc81-4af9-8c8d-60b2e8436bd6"
      },
      "execution_count": null,
      "outputs": [
        {
          "output_type": "stream",
          "name": "stdout",
          "text": [
            "     ┌───┐              \n",
            "q_0: ┤ X ├───■──────────\n",
            "     ├───┤   │          \n",
            "q_1: ┤ X ├───■──────────\n",
            "     └───┘┌──┴───┐┌─┐   \n",
            "q_2: ─────┤0     ├┤M├───\n",
            "          │  2-H │└╥┘┌─┐\n",
            "q_3: ─────┤1     ├─╫─┤M├\n",
            "          └──────┘ ║ └╥┘\n",
            "c: 2/══════════════╩══╩═\n",
            "                   0  1 \n"
          ]
        }
      ]
    }
  ]
}