{
  "nbformat": 4,
  "nbformat_minor": 0,
  "metadata": {
    "colab": {
      "provenance": [],
      "authorship_tag": "ABX9TyN3Cr0pByaquHYBDqMJUGNG",
      "include_colab_link": true
    },
    "kernelspec": {
      "name": "python3",
      "display_name": "Python 3"
    },
    "language_info": {
      "name": "python"
    }
  },
  "cells": [
    {
      "cell_type": "markdown",
      "metadata": {
        "id": "view-in-github",
        "colab_type": "text"
      },
      "source": [
        "<a href=\"https://colab.research.google.com/github/MicahShaw/quantum-projects/blob/main/Qiskit%20(Phase_Flip_ECC)%20Micah%20Shaw.ipynb\" target=\"_parent\"><img src=\"https://colab.research.google.com/assets/colab-badge.svg\" alt=\"Open In Colab\"/></a>"
      ]
    },
    {
      "cell_type": "markdown",
      "source": [
        "# **Quantum Error Correction: Phase Flip Code explained by** *Micah Shaw*"
      ],
      "metadata": {
        "id": "L8SzOVIArH7P"
      }
    },
    {
      "cell_type": "code",
      "source": [
        "#Micah Shaw (UMD College Park)\n",
        "#Qiskit-Phase Flip ECC Code\n",
        "#Necessary Imports\n",
        "\n",
        "#Suppress !pip output.\n",
        "%%capture\n",
        "!pip install qiskit\n",
        "from qiskit import QuantumRegister, ClassicalRegister\n",
        "from qiskit import QuantumCircuit\n",
        "import matplotlib.pyplot as plt"
      ],
      "metadata": {
        "id": "nxYDBrhQr4yR"
      },
      "execution_count": null,
      "outputs": []
    },
    {
      "cell_type": "markdown",
      "source": [
        "#Step One, ***Setting up the Circuit***\n",
        "\n",
        "*Setup Explained Below*\n",
        "\n"
      ],
      "metadata": {
        "id": "97w0b7G7t1il"
      }
    },
    {
      "cell_type": "code",
      "source": [
        "quantum_register = QuantumRegister(3, 'qregister')\n",
        "#Need classical register to measure the result. We will not perform a measurement here however!\n",
        "classical_register = ClassicalRegister(1, 'cregister')\n",
        "#Create circuit, Three Qubits, One Classical Bit\n",
        "quantum_circuit = QuantumCircuit(quantum_register, classical_register)"
      ],
      "metadata": {
        "id": "xb6lG46zsflX"
      },
      "execution_count": null,
      "outputs": []
    },
    {
      "cell_type": "markdown",
      "source": [
        "#Step Two, ***Applying the CNOT Gates***\n",
        "\n",
        "```\n",
        "#We need to use the CNOT Gate applied from the original qubit to two ancillary qubits in order to maintain the state.\n",
        "```"
      ],
      "metadata": {
        "id": "W1-ZbuFTuH9d"
      }
    },
    {
      "cell_type": "code",
      "source": [
        "%%capture\n",
        "quantum_circuit.cx(quantum_register[0], quantum_register[1])\n",
        "quantum_circuit.cx(quantum_register[0], quantum_register[2])"
      ],
      "metadata": {
        "id": "pYfBQbDAsf7e"
      },
      "execution_count": null,
      "outputs": []
    },
    {
      "cell_type": "markdown",
      "source": [
        "#Step Three, ***Place all qubits into superposition***\n",
        "\n",
        "\n",
        "# *Hadamard Gate*\n",
        "\n",
        "\n",
        "> We can use the Hadamard gate here for superposition.\n",
        "\n"
      ],
      "metadata": {
        "id": "HeCHSz918Ede"
      }
    },
    {
      "cell_type": "code",
      "source": [
        "%%capture\n",
        "quantum_circuit.h(quantum_register[0])\n",
        "quantum_circuit.h(quantum_register[1])\n",
        "quantum_circuit.h(quantum_register[2])"
      ],
      "metadata": {
        "id": "JQ8XVUBE8V92"
      },
      "execution_count": null,
      "outputs": []
    },
    {
      "cell_type": "markdown",
      "source": [
        "#Step Four, ***Simulate a noisy channel with a phase flip***\n",
        "\n",
        "```\n",
        "#We can simluate a phase flip with a Pauli-Z gate.\n",
        "```\n",
        "# *Pauli-Z Gate*\n",
        "\n",
        "\n",
        "> Performs a rotation around the Z-axis of the Bloch sphere. |0> to |0>, |1> to -|1>.\n",
        "\n"
      ],
      "metadata": {
        "id": "Z2S8wjjBu8Pi"
      }
    },
    {
      "cell_type": "code",
      "source": [
        "%%capture\n",
        "quantum_circuit.z(quantum_register[0])"
      ],
      "metadata": {
        "id": "8HCdq5xmtkv0"
      },
      "execution_count": null,
      "outputs": []
    },
    {
      "cell_type": "markdown",
      "source": [
        "#Step Five, ***Repeat hadamard step to bring qubits out of superposition***"
      ],
      "metadata": {
        "id": "otx6c_2TvveY"
      }
    },
    {
      "cell_type": "code",
      "source": [
        "quantum_circuit.h(quantum_register[0])\n",
        "quantum_circuit.h(quantum_register[1])\n",
        "quantum_circuit.h(quantum_register[2])"
      ],
      "metadata": {
        "colab": {
          "base_uri": "https://localhost:8080/"
        },
        "id": "taoPfuvZ-Kk_",
        "outputId": "516b5ac3-cea7-414b-dd16-26cc60afcc19"
      },
      "execution_count": null,
      "outputs": [
        {
          "output_type": "execute_result",
          "data": {
            "text/plain": [
              "<qiskit.circuit.instructionset.InstructionSet at 0x7f03e92fa890>"
            ]
          },
          "metadata": {},
          "execution_count": 21
        }
      ]
    },
    {
      "cell_type": "markdown",
      "source": [
        "#Step Six, ***Repeat Step Two, Apply CNOT Gates again***"
      ],
      "metadata": {
        "id": "0eEypv-P-WDY"
      }
    },
    {
      "cell_type": "code",
      "source": [
        "%%capture\n",
        "quantum_circuit.cx(quantum_register[0], quantum_register[1])\n",
        "quantum_circuit.cx(quantum_register[0], quantum_register[2])"
      ],
      "metadata": {
        "id": "5U5AoHBYvtUp"
      },
      "execution_count": null,
      "outputs": []
    },
    {
      "cell_type": "markdown",
      "source": [
        "***Intermission, Toffoli Gate Explained***\n",
        "\n",
        "\n",
        "\n",
        "> A Toffoli Gate is a multi-qubit gate which is simliar to the\n",
        "CNOT gate, where intstead of one control qubit and one target qubit, it maintains two control qubits. We use this in QEC to correct the phase flip.\n",
        "\n",
        "\n"
      ],
      "metadata": {
        "id": "CsdpLrIzwpI5"
      }
    },
    {
      "cell_type": "markdown",
      "source": [
        "#Step Five, ***Correct the Phase FLIP***\n",
        "\n",
        "```\n",
        "#We can correct the flip with a TOFFOLI gate.\n",
        "```\n",
        "> If C-one and C-two are one, flips the target qubit.\n"
      ],
      "metadata": {
        "id": "armaq6Fnw-J3"
      }
    },
    {
      "cell_type": "code",
      "source": [
        "quantum_circuit.ccx(quantum_register[2], quantum_register[1], quantum_register[0])\n",
        "print(quantum_circuit)"
      ],
      "metadata": {
        "colab": {
          "base_uri": "https://localhost:8080/"
        },
        "id": "HeAUWiblvqAG",
        "outputId": "b5779860-2027-4b65-8fdb-fd6bbe5a47a7"
      },
      "execution_count": null,
      "outputs": [
        {
          "output_type": "stream",
          "name": "stdout",
          "text": [
            "                       ┌───┐┌───┐┌───┐          ┌───┐\n",
            "qregister_0: ──■────■──┤ H ├┤ Z ├┤ H ├──■────■──┤ X ├\n",
            "             ┌─┴─┐  │  ├───┤├───┤└───┘┌─┴─┐  │  └─┬─┘\n",
            "qregister_1: ┤ X ├──┼──┤ H ├┤ H ├─────┤ X ├──┼────■──\n",
            "             └───┘┌─┴─┐├───┤├───┤     └───┘┌─┴─┐  │  \n",
            "qregister_2: ─────┤ X ├┤ H ├┤ H ├──────────┤ X ├──■──\n",
            "                  └───┘└───┘└───┘          └───┘     \n",
            "cregister: 1/════════════════════════════════════════\n",
            "                                                     \n"
          ]
        }
      ]
    },
    {
      "cell_type": "code",
      "source": [],
      "metadata": {
        "id": "E9KKzinTg051"
      },
      "execution_count": null,
      "outputs": []
    }
  ]
}
