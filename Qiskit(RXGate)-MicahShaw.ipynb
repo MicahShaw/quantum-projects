{
  "nbformat": 4,
  "nbformat_minor": 0,
  "metadata": {
    "colab": {
      "provenance": [],
      "authorship_tag": "ABX9TyNhrvpxHlOuhPBlq9756hqi",
      "include_colab_link": true
    },
    "kernelspec": {
      "name": "python3",
      "display_name": "Python 3"
    },
    "language_info": {
      "name": "python"
    }
  },
  "cells": [
    {
      "cell_type": "markdown",
      "metadata": {
        "id": "view-in-github",
        "colab_type": "text"
      },
      "source": [
        "<a href=\"https://colab.research.google.com/github/MicahShaw/quantum-projects/blob/main/Qiskit(RXGate)-MicahShaw.ipynb\" target=\"_parent\"><img src=\"https://colab.research.google.com/assets/colab-badge.svg\" alt=\"Open In Colab\"/></a>"
      ]
    },
    {
      "cell_type": "code",
      "source": [
        "#Micah Shaw (UMD College Park)\n",
        "#Qiskit-RX GATE\n",
        "#RX gate performs a rotation about the X-axis by theta.\n",
        "\n",
        "#Suppress !pip output.\n",
        "%%capture\n",
        "\n",
        "#Necessary Imports\n",
        "!pip install pylatexenc\n",
        "!pip install qiskit\n",
        "!from qiskit import IBMQ, QuantumRegister, QuantumCircuit\n",
        "from numpy import pi\n",
        "from qiskit import*\n"
      ],
      "metadata": {
        "id": "2CzVZlItmrQQ"
      },
      "execution_count": null,
      "outputs": []
    },
    {
      "cell_type": "code",
      "execution_count": null,
      "metadata": {
        "colab": {
          "base_uri": "https://localhost:8080/"
        },
        "id": "RPW9D7oJaGQ1",
        "outputId": "b656a8c2-55da-4127-a774-c70c446d4a15"
      },
      "outputs": [
        {
          "output_type": "stream",
          "name": "stdout",
          "text": [
            "             ┌───────┐┌─┐\n",
            "  qregister: ┤ Rx(π) ├┤M├\n",
            "             └───────┘└╥┘\n",
            "cregister: 1/══════════╩═\n",
            "                       0 \n"
          ]
        }
      ],
      "source": [
        "#Define register, with one qubit.\n",
        "register = QuantumRegister(1, name = 'qregister')\n",
        "#Define circuit, with one classical bit.\n",
        "circuit = ClassicalRegister(1, name ='cregister')\n",
        "\n",
        "complete_circuit = QuantumCircuit(register, circuit)\n",
        "\n",
        "#Matrix Representation\n",
        "#      | cos(pi/2)  -sin(pi/2) |\n",
        "# RX = |                       |\n",
        "#      | -sin(pi/2) cos(pi/2)  |\n",
        "\n",
        "#Perform RX gate on first bit in quantum register.\n",
        "\n",
        "\n",
        "complete_circuit.rx(pi, register[0])\n",
        "\n",
        "complete_circuit.measure(register, circuit)\n",
        "print(complete_circuit)\n",
        "\n"
      ]
    }
  ]
}